{
 "cells": [
  {
   "cell_type": "markdown",
   "metadata": {},
   "source": [
    "### 2018/2019 - Task List 10\n",
    "\n",
    "1. Implement Naive Bayes classifier with pyro\n",
    "    - create apropriate parameters (mean and std for a and b, sigma - noise)\n",
    "    - provide optimization procedure\n",
    "    - check appropriateness of implemented method with selected dataset\n"
   ]
  },
  {
   "cell_type": "markdown",
   "metadata": {},
   "source": [
    "# Required imports"
   ]
  },
  {
   "cell_type": "code",
   "execution_count": 1,
   "metadata": {},
   "outputs": [],
   "source": [
    "%matplotlib inline\n",
    "import pyro\n",
    "import torch\n",
    "import numpy as np\n",
    "import matplotlib.pyplot as plt\n",
    "import pyro.optim as optim\n",
    "import pyro.distributions as dist\n",
    "from torch.distributions import constraints\n",
    "from tqdm import tqdm_notebook as tqdm\n",
    "import seaborn as sns\n",
    "from matplotlib import animation, rc\n",
    "from IPython.display import HTML\n",
    "import torch.nn as nn\n",
    "from functools import partial\n",
    "import pandas as pd\n",
    "from pyro.contrib.autoguide import AutoDiagonalNormal, AutoMultivariateNormal\n",
    "from pyro.infer import EmpiricalMarginal, SVI, Trace_ELBO, TracePredictive\n",
    "from pyro.optim import Adam\n",
    "import operator\n",
    "from sklearn.model_selection import train_test_split\n",
    "from sklearn import model_selection, metrics"
   ]
  },
  {
   "cell_type": "code",
   "execution_count": 2,
   "metadata": {},
   "outputs": [],
   "source": [
    "pyro.set_rng_seed(1)\n",
    "pyro.enable_validation(True)"
   ]
  },
  {
   "cell_type": "markdown",
   "metadata": {},
   "source": [
    "## Solutions"
   ]
  },
  {
   "cell_type": "code",
   "execution_count": 3,
   "metadata": {},
   "outputs": [],
   "source": [
    "wine = pd.read_csv('wine.csv', header=None)\n",
    "wine.columns = [\"classname\", \"Alcohol\", \"MalicAcid\", \"Ash\", \"AlcalinityOfAsh\", \"Magnesium\", \"TotalPhenols\",\"Flavanoids\", \n",
    "                \"NonflavanoidPhenols\", \"Proanthocyanins\", \"ColorIntensivity\", \"Hue\",\"OD280/OD315\", \"Proline\"]\n",
    "\n",
    "df = wine\n",
    "# num_columns = df.shape[1]\n",
    "# num_rows = df.shape[0]\n",
    "data = df"
   ]
  },
  {
   "cell_type": "code",
   "execution_count": 19,
   "metadata": {},
   "outputs": [],
   "source": [
    "def model(data):\n",
    "    data = torch.tensor(data.values).float()\n",
    "    num_columns = data.shape[1]\n",
    "    \n",
    "    mean_prior = data[0]\n",
    "    std_prior = torch.ones(num_columns)\n",
    "#     noise_std = torch.ones(num_columns)\n",
    "    \n",
    "    prior = pyro.distributions.Normal(loc=mean_prior, scale=std_prior).independent(1)\n",
    "    weight = pyro.sample(\"weight\", prior)\n",
    "    \n",
    "    with pyro.plate(\"map\", len(data)):\n",
    "        #sample = pyro.sample(\"obs\", pyro.distributions.Normal(weight, noise_std), obs=data)\n",
    "        sample = pyro.sample(\"obs\", prior, obs=data)\n",
    "        return sample\n",
    "\n",
    "\n",
    "def guide(data):\n",
    "    num_columns = data.shape[1]\n",
    "    \n",
    "    mean = pyro.param(\"mean\", torch.ones(1, num_columns)*0)\n",
    "    std = pyro.param(\"std\", torch.ones(1, num_columns)*10, constraint=constraints.positive)\n",
    "    \n",
    "    dists = pyro.distributions.Normal(loc=mean, scale=std).independent(1)\n",
    "    sample = pyro.sample(\"weight\", dists)\n",
    "    return sample\n",
    "\n",
    "\n",
    "def train(data, num_steps=5000):\n",
    "    pyro.clear_param_store()\n",
    "    \n",
    "    optim = Adam({\"lr\": 0.03})\n",
    "    svi = pyro.infer.SVI(model=model,\n",
    "                         guide=guide,\n",
    "                         optim=optim,\n",
    "                         loss=pyro.infer.Trace_ELBO(), num_samples=len(data))\n",
    "\n",
    "    losses = []\n",
    "    for t in tqdm(range(num_steps)):\n",
    "        losses.append(svi.step(data))\n",
    "    return pyro.param(\"mean\"), pyro.param(\"std\"), losses\n",
    "\n",
    "\n",
    "def plot_loss(losses, learned_mean, learned_std, print_info=False):\n",
    "    columns_data = [df[i] for i in df.columns]\n",
    "    \n",
    "    true_mean = [np.mean(x) for x in columns_data]\n",
    "    true_std = [np.std(x) for x in columns_data]\n",
    "    if (print_info):\n",
    "        print(df.columns)\n",
    "        print(\"{}\\n{}\".format(true_mean, true_std))\n",
    "        print()\n",
    "\n",
    "    plt.plot(losses)\n",
    "    plt.title(\"evidence lower bound (ELBO)\")\n",
    "    plt.xlabel(\"step\")\n",
    "    plt.ylabel(\"loss\");\n",
    "    if (print_info):\n",
    "        print('learned mean = ', learned_mean)\n",
    "        print('learned std = ', learned_std)\n",
    "        print()\n",
    "\n",
    "    diff_mean = [learned_mean[i] - true_mean[i] for i in range(len(true_mean))]\n",
    "    diff_std = [learned_std[i] - true_std[i] for i in range(len(true_std))]\n",
    "    if (print_info):\n",
    "        print(diff_mean, \"\\n\", diff_std)"
   ]
  },
  {
   "cell_type": "code",
   "execution_count": 20,
   "metadata": {},
   "outputs": [],
   "source": [
    "# %%time\n",
    "# _, _, losses = train(data, 20000)\n",
    "\n",
    "# learned_mean = pyro.param(\"mean\").tolist()[0]\n",
    "# learned_std = pyro.param(\"std\").tolist()[0]\n",
    "\n",
    "# plot_loss(losses, learned_mean, learned_std, print_info=True)"
   ]
  },
  {
   "cell_type": "code",
   "execution_count": 25,
   "metadata": {},
   "outputs": [],
   "source": [
    "def extract_labels(dataset):\n",
    "    # extract labels\n",
    "    dataset_labels = dataset[\"classname\"].copy()\n",
    "    dataset = dataset.drop(\"classname\", axis=1)\n",
    "\n",
    "    return dataset, dataset_labels\n",
    "\n",
    "\n",
    "def split_data(dataset, test_size=0.2):\n",
    "    # split into train and test sets\n",
    "    train_set, test_set = train_test_split(dataset, test_size=test_size, random_state=42, stratify=dataset['classname'])\n",
    "\n",
    "    # extract labels\n",
    "    train_set_labels = train_set[\"classname\"].copy()\n",
    "    train_set = train_set.drop(\"classname\", axis=1)\n",
    "\n",
    "    test_set_labels = test_set[\"classname\"].copy()\n",
    "    test_set = test_set.drop(\"classname\", axis=1)\n",
    "\n",
    "    return train_set, train_set_labels, test_set, test_set_labels\n",
    "\n",
    "\n",
    "def evaluate(labels_true, labels_predicted):\n",
    "    labels_true = labels_true.values.tolist()\n",
    "    accuracy = metrics.accuracy_score(y_true=labels_true, y_pred=labels_predicted)\n",
    "    precision = metrics.precision_score(y_true=labels_true, y_pred=labels_predicted, average='macro')\n",
    "    recall = metrics.recall_score(y_true=labels_true, y_pred=labels_predicted, average='macro')\n",
    "    f1 = metrics.f1_score(y_true=labels_true, y_pred=labels_predicted, average='macro')\n",
    "\n",
    "    return accuracy, precision, recall, f1\n",
    "\n",
    "\n",
    "def test_classifier(train, train_labels, test, test_labels, model):\n",
    "    model.fit(train, train_labels)\n",
    "    labels_predicted = model.predict(test)\n",
    "    labels_true = test_labels\n",
    "    accuracy, precision, recall, f1 = evaluate(labels_true, labels_predicted)\n",
    "    return accuracy, precision, recall, f1"
   ]
  },
  {
   "cell_type": "code",
   "execution_count": 26,
   "metadata": {},
   "outputs": [],
   "source": [
    "class NaiveBayesClassifier:\n",
    "    def __init__(self):\n",
    "        self.mean_for_classes = {}\n",
    "        self.std_for_classes = {}\n",
    "        self.classes_probs = {}\n",
    "    \n",
    "    def fit(self, X, y):\n",
    "        num_columns = X.shape[1]\n",
    "        self.classes = y.unique()\n",
    "        \n",
    "        for classname in self.classes:\n",
    "            current_data = X[y==classname]\n",
    "            self.classes_probs[classname] = len(current_data)\n",
    "            mean, std, _ = train(current_data, num_steps=10000)\n",
    "            self.mean_for_classes[classname] = mean[0]\n",
    "            self.std_for_classes[classname] = std[0]\n",
    "            # print(self.classes_probs[classname], self.mean_for_classes[classname], self.std_for_classes[classname])\n",
    "            \n",
    "    \n",
    "    def predict(self, X):\n",
    "        probs = {}\n",
    "        predicted = []\n",
    "        \n",
    "        for row in X.values:\n",
    "            for classname in self.classes:\n",
    "                p = self.classes_probs[classname]\n",
    "                for i, element in enumerate(row):\n",
    "                    p *= (1/(np.sqrt(2*np.pi*self.std_for_classes[classname][i].detach().numpy() ** 2))) \\\n",
    "                            * np.e ** \\\n",
    "                            (-((element-self.mean_for_classes[classname][i].detach().numpy()) ** 2) \\\n",
    "                             /(2*self.std_for_classes[classname][i].detach().numpy() ** 2))\n",
    "                    # print(p)\n",
    "                probs[classname] = p\n",
    "            chosen_class = max(probs.items(), key=operator.itemgetter(1))[0]\n",
    "            # print(chosen_class)\n",
    "            predicted.append(chosen_class)\n",
    "        \n",
    "        return predicted\n"
   ]
  },
  {
   "cell_type": "code",
   "execution_count": 27,
   "metadata": {},
   "outputs": [],
   "source": [
    "def classify(dataset):\n",
    "    train_set, train_labels, test_set, test_labels = split_data(dataset)\n",
    "    model = NaiveBayesClassifier()\n",
    "    accuracy, precision, recall, f1 = test_classifier(train_set, train_labels, test_set, test_labels, model)\n",
    "    return accuracy, precision, recall, f1"
   ]
  },
  {
   "cell_type": "code",
   "execution_count": 28,
   "metadata": {},
   "outputs": [
    {
     "data": {
      "application/vnd.jupyter.widget-view+json": {
       "model_id": "32993690b7c74918b5226e82ed07a418",
       "version_major": 2,
       "version_minor": 0
      },
      "text/plain": [
       "HBox(children=(IntProgress(value=0, max=10000), HTML(value='')))"
      ]
     },
     "metadata": {},
     "output_type": "display_data"
    },
    {
     "name": "stdout",
     "output_type": "stream",
     "text": [
      "\n"
     ]
    },
    {
     "data": {
      "application/vnd.jupyter.widget-view+json": {
       "model_id": "d22bfea2077643dda27f4891194b9443",
       "version_major": 2,
       "version_minor": 0
      },
      "text/plain": [
       "HBox(children=(IntProgress(value=0, max=10000), HTML(value='')))"
      ]
     },
     "metadata": {},
     "output_type": "display_data"
    },
    {
     "name": "stdout",
     "output_type": "stream",
     "text": [
      "\n"
     ]
    },
    {
     "data": {
      "application/vnd.jupyter.widget-view+json": {
       "model_id": "a30bee4403f64651b3245388b4ef8925",
       "version_major": 2,
       "version_minor": 0
      },
      "text/plain": [
       "HBox(children=(IntProgress(value=0, max=10000), HTML(value='')))"
      ]
     },
     "metadata": {},
     "output_type": "display_data"
    },
    {
     "name": "stdout",
     "output_type": "stream",
     "text": [
      "\n"
     ]
    },
    {
     "name": "stderr",
     "output_type": "stream",
     "text": [
      "d:\\programowanie\\python\\machine-learning-tests\\venv\\lib\\site-packages\\sklearn\\metrics\\classification.py:1143: UndefinedMetricWarning: Precision is ill-defined and being set to 0.0 in labels with no predicted samples.\n",
      "  'precision', 'predicted', average, warn_for)\n",
      "d:\\programowanie\\python\\machine-learning-tests\\venv\\lib\\site-packages\\sklearn\\metrics\\classification.py:1143: UndefinedMetricWarning: F-score is ill-defined and being set to 0.0 in labels with no predicted samples.\n",
      "  'precision', 'predicted', average, warn_for)\n"
     ]
    },
    {
     "name": "stdout",
     "output_type": "stream",
     "text": [
      "Wall time: 1min 55s\n"
     ]
    },
    {
     "data": {
      "text/plain": [
       "(0.4444444444444444,\n",
       " 0.27647714604236345,\n",
       " 0.4666666666666666,\n",
       " 0.3445134575569358)"
      ]
     },
     "execution_count": 28,
     "metadata": {},
     "output_type": "execute_result"
    }
   ],
   "source": [
    "%%time\n",
    "classify(data)"
   ]
  },
  {
   "cell_type": "code",
   "execution_count": null,
   "metadata": {},
   "outputs": [],
   "source": []
  }
 ],
 "metadata": {
  "kernelspec": {
   "display_name": "Python 3",
   "language": "python",
   "name": "python3"
  },
  "language_info": {
   "codemirror_mode": {
    "name": "ipython",
    "version": 3
   },
   "file_extension": ".py",
   "mimetype": "text/x-python",
   "name": "python",
   "nbconvert_exporter": "python",
   "pygments_lexer": "ipython3",
   "version": "3.6.4"
  }
 },
 "nbformat": 4,
 "nbformat_minor": 2
}
